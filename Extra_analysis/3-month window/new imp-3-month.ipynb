{
 "cells": [
  {
   "cell_type": "markdown",
   "metadata": {},
   "source": [
    "# Calling Functions"
   ]
  },
  {
   "cell_type": "code",
   "execution_count": 2,
   "metadata": {},
   "outputs": [],
   "source": [
    "source(\"Data_Cleaning.R\") # normalizing and sampling (class imbalance)\n",
    "source(\"Prediction_Power.R\") # prediction power"
   ]
  },
  {
   "cell_type": "markdown",
   "metadata": {},
   "source": [
    "## Remove columns by Variance inflation factor\n",
    "Analyze the magnitude of multicollinearity by considering the size of the ${\\displaystyle \\operatorname {VIF} ({\\hat {\\beta }}_{i})}$. A rule of thumb is that if ${\\displaystyle \\operatorname {VIF} ({\\hat {\\beta }}_{i})>10} $ then multicollinearity is high."
   ]
  },
  {
   "cell_type": "code",
   "execution_count": 4,
   "metadata": {},
   "outputs": [],
   "source": [
    "remVarsByVIF <- function(x){\n",
    "  vifs=c()\n",
    "  vflag=TRUE\n",
    "  while(vflag){\n",
    "    VIF <- diag(solve(cor(x)))\n",
    "    vifs = c(vifs, names(((VIF > 10) & (VIF == max(VIF))))[((VIF > 10) & (VIF == max(VIF)))])\n",
    "    vflag = any(VIF > 10)\n",
    "    x = x[,!((VIF > 10) & (VIF == max(VIF)))]\n",
    "  }\n",
    "  \n",
    "  return(x)\n",
    "}"
   ]
  },
  {
   "cell_type": "markdown",
   "metadata": {},
   "source": [
    "## creating strata"
   ]
  },
  {
   "cell_type": "code",
   "execution_count": 5,
   "metadata": {},
   "outputs": [],
   "source": [
    "create_starta <- function(dataset, timestamp , months){\n",
    "    STRATA_PER_YEAR <- 12 / months\n",
    "    strata_size <- 60 * 60 * 24 * (365.25/STRATA_PER_YEAR) # Yearly quarters\n",
    "    #number_of_strata <- floor((max(dataset[\"commitdate_timestamp\"])-min(dataset[\"commitdate_timestamp\"]))/strata_size)\n",
    "    mymin <- min(dataset[timestamp])\n",
    "    dataset[\"strata\"] <- (floor((dataset[timestamp] - mymin) / strata_size))\n",
    "    return(dataset)\n",
    "}"
   ]
  },
  {
   "cell_type": "markdown",
   "metadata": {},
   "source": [
    "# RQ1"
   ]
  },
  {
   "cell_type": "code",
   "execution_count": 7,
   "metadata": {},
   "outputs": [
    {
     "name": "stdout",
     "output_type": "stream",
     "text": [
      "  |======================================================================| 100%"
     ]
    }
   ],
   "source": [
    "library(randomForest)\n",
    "library(MASS)\n",
    "\n",
    "months_ = 3 #EACH 3 MONTHS\n",
    "projects = c(#\"bugzilla\", \"columba\", \n",
    "             \"jdt\", \"platform\", \"mozilla\", \"postgres\") # target projects\n",
    "\n",
    "\n",
    "pb <- txtProgressBar(min = 0, max = length(projects), style = 3) # progress bar\n",
    "for (proj in 1:length(projects)){\n",
    "    ###############################\n",
    "    # reading data\n",
    "    ###############################\n",
    "    data_name = read.csv(file=file.path(\"input\", paste0(projects[proj],\".csv\"),sep=\"\"))\n",
    "    \n",
    "\n",
    "    ###############################\n",
    "    # removing index column and sampling if needed.\n",
    "    ###############################\n",
    "    sampling = FALSE\n",
    "    if(sampling){\n",
    "        fit <- doSampling(data_name,\"bug\") [,-1]\n",
    "    } else {\n",
    "        fit = data_name[,-1]\n",
    "    }\n",
    "\n",
    "\n",
    "    ###############################\n",
    "    # keeping commit date in another variable and then removing that column.\n",
    "    ###############################\n",
    "    keep_commitdate = fit[\"commitdate\"]\n",
    "    fit= fit[-1]\n",
    "\n",
    "\n",
    "    ###############################\n",
    "    # normalizing\n",
    "    ###############################\n",
    "    idx <- charmatch(c(\"la\",\"ld\",\"lt\",\"exp\",\"rexp\",\"sexp\",\"ndev\",\"pd\",\"npt\",\"entropy\"), colnames(fit))\n",
    "    fit[,idx] = fit[,idx] + 1\n",
    "    idx <- charmatch(c(\"fix\",\"bug\"), colnames(fit))\n",
    "    fit[,-c(idx)] = apply(fit[,-c(idx)], 2, log) \n",
    "\n",
    "    ###############################\n",
    "    # removing highly correlated columns\n",
    "    ###############################\n",
    "    idx <- charmatch(c(\"nm\",\"rexp\"), colnames(fit))\n",
    "    fit = fit[,-c(idx)]\n",
    "\n",
    "    va <- apply(fit, 2, var)\n",
    "    fit <- fit[,!(va==0)]\n",
    "\n",
    "    co <- cor(fit)\n",
    "    ap <- apply(abs(co) > 0.9999 & upper.tri(co), 2, any)\n",
    "    fit <- fit[!ap]\n",
    "\n",
    "\n",
    "    ###############################\n",
    "    # removing by VIF\n",
    "    ###############################\n",
    "    idx <- charmatch(c(\"bug\"), colnames(fit))\n",
    "    x = fit[,-c(idx)] # remove bug column temporarily\n",
    "    x <- remVarsByVIF(x)\n",
    "    fit = cbind(x, fit[\"bug\"])  # add again bug column\n",
    "\n",
    "    ###############################\n",
    "    # adding commit date as timestamp\n",
    "    ###############################\n",
    "    fit = cbind(keep_commitdate,fit) #adding back commitdate\n",
    "\n",
    "    # creating timestampe\n",
    "    commitdate_timestamp = as.numeric(apply(fit[\"commitdate\"], 1, as.POSIXct))\n",
    "    fit = cbind(commitdate_timestamp, fit)\n",
    "    fit = fit[order(fit[\"commitdate_timestamp\"]),]\n",
    "    \n",
    "\n",
    "    ###############################\n",
    "    # adding strata column\n",
    "    ###############################\n",
    "    fit <- create_starta(fit,\"commitdate_timestamp\",months_)\n",
    "\n",
    "    \n",
    "    ###############################\n",
    "    # re-sampling on training set\n",
    "    ###############################\n",
    "    sampling = TRUE\n",
    "    if(sampling){\n",
    "        fit_testing <- fit \n",
    "        sampled1 <- lapply(split(fit, fit$strata),doSampling)\n",
    "        fit_training <- do.call(\"rbind\", sampled1)\n",
    "    } else {\n",
    "        fit_testing <- fit\n",
    "        fit_training <- fit\n",
    "    }\n",
    "    \n",
    "    \n",
    "    ###############################\n",
    "    # the total number of strata\n",
    "    ###############################\n",
    "    max_ = max(as.numeric(fit$strata))+1\n",
    "    \n",
    "    ###############################\n",
    "    # empty matrix to track the result\n",
    "    ###############################\n",
    "    brier_all_mat_3 = matrix(NA, nrow = max_ ,ncol = max_)\n",
    "    brier_last_mat_3 = matrix(NA, nrow = max_ ,ncol = max_)\n",
    "    auc_all_mat_3 = matrix(NA, nrow = max_ ,ncol = max_)\n",
    "    auc_last_mat_3 = matrix(NA, nrow = max_ ,ncol = max_)\n",
    "\n",
    "\n",
    "    ###############################\n",
    "    # pairwise comparison of the different strata\n",
    "    ###############################\n",
    "    for (i in 1:max_){\n",
    "        if (i == 1){\n",
    "            next\n",
    "        }\n",
    "        strata_cur = i-1\n",
    "        test = subset(fit_testing, strata == (strata_cur))\n",
    "        for (j in 0:(strata_cur-1)){\n",
    "#            print(c(\"\\n\",\"i:\",i,\"j:\",j))\n",
    "            train_last = subset(fit_training, strata == j)\n",
    "            train_all = subset(fit_training, strata %in% 0:j)\n",
    "            \n",
    "            train_all = train_all[ ,-charmatch(c(\"strata\",\"commitdate_timestamp\",\"commitdate\"),\n",
    "                                               colnames(train_all))] # remove three columns before glm \n",
    "            train_last = train_last[ ,-charmatch(c(\"strata\",\"commitdate_timestamp\",\"commitdate\"), \n",
    "                                                 colnames(train_last))] #remove three columns before glm\n",
    "\n",
    "            ###############################\n",
    "            # remove non-varient columns\n",
    "            ###############################\n",
    "            va <- apply(train_all, 2, var)\n",
    "            train_all <- train_all[,!(va==0)]\n",
    "            va <- apply(train_last, 2, var)\n",
    "            train_last <- train_last[,!(va==0)]\n",
    "            \n",
    "            ###############################\n",
    "            # remove possible duplicate columns\n",
    "            ###############################\n",
    "            train_all = train_all[, !duplicated(t(train_all))]\n",
    "            train_last = train_last[, !duplicated(t(train_last))]\n",
    "\n",
    "            ###############################\n",
    "            # remove by VIF\n",
    "            ###############################\n",
    "            idx <- charmatch(c(\"bug\"), colnames(train_all))\n",
    "            x = train_all[,-c(idx)] # remove bug column temporarily\n",
    "            x <- remVarsByVIF(x)\n",
    "            train_all = cbind(x, train_all[\"bug\"])  # add again bug column\n",
    "            \n",
    "            idx <- charmatch(c(\"bug\"), colnames(train_last))\n",
    "            x = train_last[,-c(idx)] # remove bug column temporarily\n",
    "            x <- remVarsByVIF(x)\n",
    "            train_last = cbind(x, train_last[\"bug\"])  # add again bug column            \n",
    "            \n",
    "#            print(\"\\n model all\")\n",
    "#            options(warn=-1)\n",
    "            #bayesglm\n",
    "             model_all = randomForest(as.factor(bug) ~ ., data=train_all, ntree=100, mtry=2, importance=TRUE)\n",
    "#            model_all = lrm(bug~.,train_all)\n",
    "#            model_all = glm(bug~.,train_all, family=binomial, control = list(maxit = 50))\n",
    "#            options(warn=-1)\n",
    "#            model_all = stepAIC(model_all, k=log(nrow(train_all)), trace = FALSE)\n",
    "#            options(warn=0)\n",
    "            pred_all = predict(model_all, new=test\n",
    "#                               ,type=\"response\"\n",
    "                               ,type=\"prob\"\n",
    "                               ) [,\"1\"]\n",
    "                                 \n",
    "            \n",
    "#            print(\"\\n model last\")\n",
    "#            model_last = lrm(bug~.,train_last)\n",
    "           model_last = randomForest(as.factor(bug) ~ ., data=train_last, ntree=100, mtry=2, importance=TRUE)\n",
    "#            model_last = glm(bug~.,train_last, family=binomial, control = list(maxit = 50))\n",
    "#            options(warn=-1)\n",
    "#            model_last = stepAIC(model_last, k=log(nrow(train_last)), trace = FALSE)\n",
    "#            options(warn=0)\n",
    "            pred_last = predict(model_last, new=test\n",
    "                                ,type=\"prob\"\n",
    "                               ) [,\"1\"]\n",
    "            \n",
    "            brier_all_mat_3[max_-(j),i] = brier(pred_all,test$bug)\n",
    "            brier_last_mat_3[max_-(j),i] = brier(pred_last,test$bug)\n",
    "            auc_all_mat_3[max_-(j),i] = calcROC(pred_all,test$bug)\n",
    "            auc_last_mat_3[max_-(j),i] = calcROC(pred_last,test$bug)\n",
    "        }\n",
    "    }\n",
    "    \n",
    "    \n",
    "    write.csv(brier_all_mat_3, file=file.path(\"output_3month\", paste0(\"brier_all_mat_3_\",projects[proj],\".csv\"), fsep = .Platform$file.sep))\n",
    "    write.csv(brier_last_mat_3, file=file.path(\"output_3month\", paste0(\"brier_last_mat_3_\",projects[proj],\".csv\"), fsep = .Platform$file.sep))\n",
    "    write.csv(auc_all_mat_3, file=file.path(\"output_3month\", paste0(\"auc_all_mat_3_\",projects[proj],\".csv\"), fsep = .Platform$file.sep))\n",
    "    write.csv(auc_last_mat_3, file=file.path(\"output_3month\", paste0(\"auc_last_mat_3_\",projects[proj],\".csv\"), fsep = .Platform$file.sep))\n",
    "\n",
    "    \n",
    "    Sys.sleep(0.001)\n",
    "    setTxtProgressBar(pb, proj)\n",
    "}"
   ]
  },
  {
   "cell_type": "markdown",
   "metadata": {},
   "source": [
    "# RQ2"
   ]
  },
  {
   "cell_type": "code",
   "execution_count": 9,
   "metadata": {},
   "outputs": [],
   "source": [
    "source(\"imp_score.R\") # Important Score"
   ]
  },
  {
   "cell_type": "code",
   "execution_count": 10,
   "metadata": {},
   "outputs": [],
   "source": [
    "METRICS_FAMILIES <- list(\n",
    "                         Size=c(\"la\", \"ld\", \"lt\"),\n",
    "                         Diffusion=c(\"ns\", \"nm\", \"nf\", \"entropy\"),\n",
    "                         Purpose = \"fix\",\n",
    "                         History=c(\"ndev\",\"pd\",\"npt\"),\n",
    "                         Author=c(\"exp\", #\"rexp\", \n",
    "                                  \"sexp\")\n",
    "                        )\n",
    "row_ = length(names(METRICS_FAMILIES))"
   ]
  },
  {
   "cell_type": "code",
   "execution_count": 24,
   "metadata": {},
   "outputs": [
    {
     "name": "stdout",
     "output_type": "stream",
     "text": [
      "  |======================================================================| 100%"
     ]
    }
   ],
   "source": [
    "library(MASS)\n",
    "\n",
    "months_ = 3 #EACH 3 MONTHS\n",
    "projects = c(#\"bugzilla\", \"columba\", \n",
    "             \"jdt\", \"platform\", \"mozilla\", \"postgres\") # target projects\n",
    "\n",
    "\n",
    "pb <- txtProgressBar(min = 0, max = length(projects), style = 3) # progress bar\n",
    "for (proj in 1:length(projects)){\n",
    "    ###############################\n",
    "    # reading data\n",
    "    ###############################\n",
    "    data_name = read.csv(file=file.path(\"input\", paste0(projects[proj],\".csv\"),sep=\"\"))\n",
    "    \n",
    "\n",
    "    ###############################\n",
    "    # removing index column and sampling if needed.\n",
    "    ###############################\n",
    "    sampling = FALSE\n",
    "    if(sampling){\n",
    "        fit <- doSampling(data_name,\"bug\") [,-1]\n",
    "    } else {\n",
    "        fit = data_name[,-1]\n",
    "    }\n",
    "\n",
    "\n",
    "    ###############################\n",
    "    # keeping commit date in another variable and then removing that column.\n",
    "    ###############################\n",
    "    keep_commitdate = fit[\"commitdate\"]\n",
    "    fit= fit[-1]\n",
    "\n",
    "\n",
    "    ###############################\n",
    "    # normalizing\n",
    "    ###############################\n",
    "    idx <- charmatch(c(\"la\",\"ld\",\"lt\",\"exp\",\"rexp\",\"sexp\",\"ndev\",\"pd\",\"npt\",\"entropy\"), colnames(fit))\n",
    "    fit[,idx] = fit[,idx] + 1\n",
    "    idx <- charmatch(c(\"fix\",\"bug\"), colnames(fit))\n",
    "    fit[,-c(idx)] = apply(fit[,-c(idx)], 2, log) \n",
    "\n",
    "    ###############################\n",
    "    # removing highly correlated columns\n",
    "    ###############################\n",
    "    idx <- charmatch(c(\"nm\",\"rexp\"), colnames(fit))\n",
    "    fit = fit[,-c(idx)]\n",
    "\n",
    "    va <- apply(fit, 2, var)\n",
    "    fit <- fit[,!(va==0)]\n",
    "\n",
    "    co <- cor(fit)\n",
    "    ap <- apply(abs(co) > 0.9999 & upper.tri(co), 2, any)\n",
    "    fit <- fit[!ap]\n",
    "\n",
    "    ###############################\n",
    "    # remove possible duplicate columns\n",
    "    ###############################\n",
    "    fit = fit[, !duplicated(t(fit))]\n",
    "\n",
    "    ###############################\n",
    "    # removing by VIF\n",
    "    ###############################\n",
    "    idx <- charmatch(c(\"bug\"), colnames(fit))\n",
    "    x = fit[,-c(idx)] # remove bug column temporarily\n",
    "    x <- remVarsByVIF(x)\n",
    "    fit = cbind(x, fit[\"bug\"])  # add again bug column\n",
    "\n",
    "    ###############################\n",
    "    # adding commit date as timestamp\n",
    "    ###############################\n",
    "    fit = cbind(keep_commitdate,fit) #adding back commitdate\n",
    "\n",
    "    # creating timestampe\n",
    "    commitdate_timestamp = as.numeric(apply(fit[\"commitdate\"], 1, as.POSIXct))\n",
    "    fit = cbind(commitdate_timestamp, fit)\n",
    "    fit = fit[order(fit[\"commitdate_timestamp\"]),]\n",
    "    \n",
    "\n",
    "    ###############################\n",
    "    # adding strata column\n",
    "    ###############################\n",
    "    fit <- create_starta(fit,\"commitdate_timestamp\",months_)\n",
    "\n",
    "    \n",
    "    ###############################\n",
    "    # re-sampling on training set\n",
    "    ###############################\n",
    "    sampling = TRUE\n",
    "    if(sampling){\n",
    "        fit_testing <- fit \n",
    "        sampled1 <- lapply(split(fit, fit$strata),doSampling)\n",
    "        fit_training <- do.call(\"rbind\", sampled1)\n",
    "    } else {\n",
    "        fit_testing <- fit\n",
    "        fit_training <- fit\n",
    "    }\n",
    "    \n",
    "    \n",
    "    ###############################\n",
    "    # the total number of strata\n",
    "    ###############################\n",
    "    max_ = max(as.numeric(fit$strata))+1\n",
    "    \n",
    "    ###############################\n",
    "    # empty matrix to track the result\n",
    "    ###############################\n",
    "    type1_all <- type1_last <- type2_all <- type2_last <-  matrix(NA, nrow = row_ ,ncol = max_)\n",
    "    colnames(type1_all) <- colnames(type2_all) <- colnames(type1_last) <- colnames(type2_last) <- 1:max_\n",
    "    rownames(type1_all) <- rownames(type2_all) <-rownames(type1_last) <-rownames(type2_last) <- names(METRICS_FAMILIES)\n",
    "\n",
    "    ###############################\n",
    "    # pairwise comparison of the different strata\n",
    "    ###############################\n",
    "    for (i in 1:max_){\n",
    "        if (i == 1){\n",
    "            next\n",
    "        }\n",
    "\n",
    "        \n",
    "        \n",
    "        strata_cur = i-1\n",
    "        test = subset(fit_testing, strata == (strata_cur))\n",
    "        j = strata_cur - 1\n",
    "#        print(c(\"\\n\",\"i:\",i,\"j:\",j))\n",
    "        train_last = subset(fit_training, strata == j)\n",
    "        train_all = subset(fit_training, strata %in% 0:j)\n",
    "\n",
    "        train_all = train_all[ ,-charmatch(c(\"strata\",\"commitdate_timestamp\",\"commitdate\"),\n",
    "                                           colnames(train_all))] # remove three columns before glm \n",
    "        train_last = train_last[ ,-charmatch(c(\"strata\",\"commitdate_timestamp\",\"commitdate\"), \n",
    "                                             colnames(train_last))] #remove three columns before glm\n",
    "\n",
    "        ###############################\n",
    "        # remove non-varient columns\n",
    "        ###############################\n",
    "        va <- apply(train_all, 2, var)\n",
    "        train_all <- train_all[,!(va==0)]\n",
    "        va <- apply(train_last, 2, var)\n",
    "        train_last <- train_last[,!(va==0)]\n",
    "\n",
    "        ###############################\n",
    "        # remove possible duplicate columns\n",
    "        ###############################\n",
    "        train_all = train_all[, !duplicated(t(train_all))]\n",
    "        train_last = train_last[, !duplicated(t(train_last))]\n",
    "\n",
    "#            print(\"\\n model all\")\n",
    "#            options(warn=-1)\n",
    "        #bayesglm\n",
    "         model_all = randomForest(as.factor(bug) ~ ., data=train_all, ntree=100, mtry=2, importance=TRUE)\n",
    "#            model_all = lrm(bug~.,train_all)\n",
    "#            model_all = glm(bug~.,train_all, family=binomial, control = list(maxit = 50))\n",
    "#            options(warn=-1)\n",
    "#            model_all = stepAIC(model_all, k=log(nrow(train_all)), trace = FALSE)\n",
    "#            options(warn=0)\n",
    "#             pred_all = predict(model_all, new=test\n",
    "# #                               ,type=\"response\"\n",
    "#                                ,type=\"prob\"\n",
    "#                                ) [,\"1\"]\n",
    "\n",
    "\n",
    "#            print(\"\\n model last\")\n",
    "#            model_last = lrm(bug~.,train_last)\n",
    "       model_last = randomForest(as.factor(bug) ~ ., data=train_last, ntree=100, mtry=2, importance=TRUE)\n",
    "#            model_last = glm(bug~.,train_last, family=binomial, control = list(maxit = 50))\n",
    "#            options(warn=-1)\n",
    "#            model_last = stepAIC(model_last, k=log(nrow(train_last)), trace = FALSE)\n",
    "#            options(warn=0)\n",
    "#             pred_last = predict(model_last, new=test\n",
    "#                                 ,type=\"prob\"\n",
    "#                                ) [,\"1\"]\n",
    "\n",
    "\n",
    "        type1_all_tab = importance(model_all, type=1)/sum(importance(model_all, type=1))\n",
    "        type2_all_tab = importance(model_all, type=2)/sum(importance(model_all, type=2))\n",
    "        type1_last_tab = importance(model_last, type=1)/sum(importance(model_last, type=1))\n",
    "        type2_last_tab = importance(model_last, type=2)/sum(importance(model_last, type=2))\n",
    "\n",
    "\n",
    "        for (dimname in names(METRICS_FAMILIES)) {\n",
    "            mymetrics <- METRICS_FAMILIES[[dimname]][METRICS_FAMILIES[[dimname]] %in% row.names(type1_all_tab)]\n",
    "            type1_all[dimname,i] <- sum(type1_all_tab [mymetrics,])\n",
    "            type1_last[dimname,i] <- sum(type2_all_tab [mymetrics,])\n",
    "            type2_all[dimname,i] <- sum(type1_last_tab [mymetrics,])\n",
    "            type2_last[dimname,i] <- sum(type2_last_tab [mymetrics,])\n",
    "            }\n",
    "                \n",
    "    }\n",
    "    \n",
    "    \n",
    "    write.csv(type1_all, file=file.path(\"output_3month\", paste0(\"type1_all_\",projects[proj],\".csv\"), \n",
    "                                        fsep = .Platform$file.sep), row.names=FALSE)\n",
    "    write.csv(type1_last, file=file.path(\"output_3month\", paste0(\"type1_last_\",projects[proj],\".csv\"),\n",
    "                                         fsep = .Platform$file.sep), row.names=FALSE)\n",
    "    write.csv(type2_all, file=file.path(\"output_3month\", paste0(\"type2_all_\",projects[proj],\".csv\"), \n",
    "                                        fsep = .Platform$file.sep), row.names=FALSE)\n",
    "    write.csv(type2_last, file=file.path(\"output_3month\", paste0(\"type2_last_\",projects[proj],\".csv\"), \n",
    "                                         fsep = .Platform$file.sep), row.names=FALSE)\n",
    "\n",
    "    \n",
    "    Sys.sleep(0.001)\n",
    "    setTxtProgressBar(pb, proj)\n",
    "}"
   ]
  },
  {
   "cell_type": "markdown",
   "metadata": {},
   "source": [
    "# RQ3"
   ]
  },
  {
   "cell_type": "code",
   "execution_count": 25,
   "metadata": {
    "scrolled": false
   },
   "outputs": [
    {
     "name": "stdout",
     "output_type": "stream",
     "text": [
      "[1] \"################################\"\n",
      "[1] \"############# jdt ##############\"\n"
     ]
    },
    {
     "data": {
      "text/html": [
       "0.75"
      ],
      "text/latex": [
       "0.75"
      ],
      "text/markdown": [
       "0.75"
      ],
      "text/plain": [
       "[1] 0.75"
      ]
     },
     "metadata": {},
     "output_type": "display_data"
    },
    {
     "data": {
      "text/html": [
       "0.72"
      ],
      "text/latex": [
       "0.72"
      ],
      "text/markdown": [
       "0.72"
      ],
      "text/plain": [
       "[1] 0.72"
      ]
     },
     "metadata": {},
     "output_type": "display_data"
    },
    {
     "data": {
      "text/plain": [
       "\n",
       "\tWilcoxon signed rank test\n",
       "\n",
       "data:  AUC by Method\n",
       "V = 319, p-value = 8.157e-05\n",
       "alternative hypothesis: true location shift is not equal to 0\n"
      ]
     },
     "metadata": {},
     "output_type": "display_data"
    },
    {
     "name": "stdout",
     "output_type": "stream",
     "text": [
      "[1] \"############## jdt #############\"\n",
      "[1] \"################################\"\n",
      "[1] \"################################################################\"\n",
      "[1] \"################################\"\n",
      "[1] \"########### mozilla ############\"\n"
     ]
    },
    {
     "data": {
      "text/html": [
       "0.82"
      ],
      "text/latex": [
       "0.82"
      ],
      "text/markdown": [
       "0.82"
      ],
      "text/plain": [
       "[1] 0.82"
      ]
     },
     "metadata": {},
     "output_type": "display_data"
    },
    {
     "data": {
      "text/html": [
       "0.79"
      ],
      "text/latex": [
       "0.79"
      ],
      "text/markdown": [
       "0.79"
      ],
      "text/plain": [
       "[1] 0.79"
      ]
     },
     "metadata": {},
     "output_type": "display_data"
    },
    {
     "data": {
      "text/plain": [
       "\n",
       "\tWilcoxon signed rank test\n",
       "\n",
       "data:  AUC by Method\n",
       "V = 375, p-value = 7.451e-08\n",
       "alternative hypothesis: true location shift is not equal to 0\n"
      ]
     },
     "metadata": {},
     "output_type": "display_data"
    },
    {
     "name": "stdout",
     "output_type": "stream",
     "text": [
      "[1] \"########### mozilla ############\"\n",
      "[1] \"################################\"\n",
      "[1] \"################################################################\"\n",
      "[1] \"################################\"\n",
      "[1] \"########### platform ###########\"\n"
     ]
    },
    {
     "data": {
      "text/html": [
       "0.77"
      ],
      "text/latex": [
       "0.77"
      ],
      "text/markdown": [
       "0.77"
      ],
      "text/plain": [
       "[1] 0.77"
      ]
     },
     "metadata": {},
     "output_type": "display_data"
    },
    {
     "data": {
      "text/html": [
       "0.75"
      ],
      "text/latex": [
       "0.75"
      ],
      "text/markdown": [
       "0.75"
      ],
      "text/plain": [
       "[1] 0.75"
      ]
     },
     "metadata": {},
     "output_type": "display_data"
    },
    {
     "data": {
      "text/plain": [
       "\n",
       "\tWilcoxon signed rank test\n",
       "\n",
       "data:  AUC by Method\n",
       "V = 341, p-value = 1.281e-06\n",
       "alternative hypothesis: true location shift is not equal to 0\n"
      ]
     },
     "metadata": {},
     "output_type": "display_data"
    },
    {
     "name": "stdout",
     "output_type": "stream",
     "text": [
      "[1] \"########### platform ###########\"\n",
      "[1] \"################################\"\n",
      "[1] \"################################################################\"\n",
      "[1] \"################################\"\n",
      "[1] \"########### postgres ###########\"\n"
     ]
    },
    {
     "data": {
      "text/html": [
       "0.8"
      ],
      "text/latex": [
       "0.8"
      ],
      "text/markdown": [
       "0.8"
      ],
      "text/plain": [
       "[1] 0.8"
      ]
     },
     "metadata": {},
     "output_type": "display_data"
    },
    {
     "data": {
      "text/html": [
       "0.76"
      ],
      "text/latex": [
       "0.76"
      ],
      "text/markdown": [
       "0.76"
      ],
      "text/plain": [
       "[1] 0.76"
      ]
     },
     "metadata": {},
     "output_type": "display_data"
    },
    {
     "data": {
      "text/plain": [
       "\n",
       "\tWilcoxon signed rank test with continuity correction\n",
       "\n",
       "data:  AUC by Method\n",
       "V = 1489, p-value = 1.744e-09\n",
       "alternative hypothesis: true location shift is not equal to 0\n"
      ]
     },
     "metadata": {},
     "output_type": "display_data"
    },
    {
     "name": "stdout",
     "output_type": "stream",
     "text": [
      "[1] \"########### postgres ###########\"\n",
      "[1] \"################################\"\n"
     ]
    }
   ],
   "source": [
    "options(warn=-1)\n",
    "\n",
    "print(\"################################\")\n",
    "print(\"############# jdt ##############\")\n",
    "auc_all_mat_3_jdt = read.csv(\"output_3month\\\\auc_all_mat_3_jdt.csv\",row.names=1)\n",
    "auc_last_mat_3_jdt = read.csv(\"output_3month\\\\auc_last_mat_3_jdt.csv\",row.names=1)\n",
    "\n",
    "under_diag_auc_all_mat_3_jdt={}\n",
    "for (i in 2:nrow(auc_all_mat_3_jdt)){\n",
    "    under_diag_auc_all_mat_3_jdt[i-1]=(auc_all_mat_3_jdt[nrow(auc_all_mat_3_jdt)-i+2,i])\n",
    "}\n",
    "round(median(under_diag_auc_all_mat_3_jdt),2)\n",
    "\n",
    "under_diag_auc_last_mat_3_jdt={}\n",
    "for (i in 2:nrow(auc_last_mat_3_jdt)){\n",
    "    under_diag_auc_last_mat_3_jdt[i-1]=(auc_last_mat_3_jdt[nrow(auc_last_mat_3_jdt)-i+2,i])\n",
    "}\n",
    "round(median(under_diag_auc_last_mat_3_jdt),2)\n",
    "\n",
    "len_ = length(under_diag_auc_last_mat_3_jdt)\n",
    "my_data <- data.frame( \n",
    "                Method = rep(c(\"all\", \"last\"), each = len_),\n",
    "                AUC = c(under_diag_auc_all_mat_3_jdt,\n",
    "                        under_diag_auc_last_mat_3_jdt)\n",
    "                )\n",
    "wilcox.test(AUC ~ Method, data = my_data, paired = TRUE, alternative = \"two.sided\")\n",
    "\n",
    "print(\"############## jdt #############\")\n",
    "print(\"################################\")\n",
    "print(\"################################################################\")\n",
    "\n",
    "\n",
    "\n",
    "print(\"################################\")\n",
    "print(\"########### mozilla ############\")\n",
    "auc_all_mat_3_mozilla = read.csv(\"output_3month\\\\auc_all_mat_3_mozilla.csv\",row.names=1)\n",
    "auc_last_mat_3_mozilla = read.csv(\"output_3month\\\\auc_last_mat_3_mozilla.csv\",row.names=1)\n",
    "\n",
    "under_diag_auc_all_mat_3_mozilla={}\n",
    "for (i in 2:nrow(auc_all_mat_3_mozilla)){\n",
    "    under_diag_auc_all_mat_3_mozilla[i-1]=(auc_all_mat_3_mozilla[nrow(auc_all_mat_3_mozilla)-i+2,i])\n",
    "}\n",
    "round(median(under_diag_auc_all_mat_3_mozilla),2)\n",
    "\n",
    "under_diag_auc_last_mat_3_mozilla={}\n",
    "for (i in 2:nrow(auc_last_mat_3_mozilla)){\n",
    "    under_diag_auc_last_mat_3_mozilla[i-1]=(auc_last_mat_3_mozilla[nrow(auc_last_mat_3_mozilla)-i+2,i])\n",
    "}\n",
    "round(median(under_diag_auc_last_mat_3_mozilla),2)\n",
    "\n",
    "len_ = length(under_diag_auc_last_mat_3_mozilla)\n",
    "my_data <- data.frame( \n",
    "                Method = rep(c(\"all\", \"last\"), each = len_),\n",
    "                AUC = c(under_diag_auc_all_mat_3_mozilla,\n",
    "                        under_diag_auc_last_mat_3_mozilla)\n",
    "                )\n",
    "wilcox.test(AUC ~ Method, data = my_data, paired = TRUE, alternative = \"two.sided\")\n",
    "\n",
    "print(\"########### mozilla ############\")\n",
    "print(\"################################\")\n",
    "\n",
    "print(\"################################################################\")\n",
    "\n",
    "\n",
    "\n",
    "print(\"################################\")\n",
    "print(\"########### platform ###########\")\n",
    "auc_all_mat_3_platform = read.csv(\"output_3month\\\\auc_all_mat_3_platform.csv\",row.names=1)\n",
    "auc_last_mat_3_platform = read.csv(\"output_3month\\\\auc_last_mat_3_platform.csv\",row.names=1)\n",
    "\n",
    "under_diag_auc_all_mat_3_platform={}\n",
    "for (i in 2:nrow(auc_all_mat_3_platform)){\n",
    "    under_diag_auc_all_mat_3_platform[i-1]=(auc_all_mat_3_platform[nrow(auc_all_mat_3_platform)-i+2,i])\n",
    "}\n",
    "round(median(under_diag_auc_all_mat_3_platform),2)\n",
    "\n",
    "under_diag_auc_last_mat_3_platform={}\n",
    "for (i in 2:nrow(auc_last_mat_3_platform)){\n",
    "    under_diag_auc_last_mat_3_platform[i-1]=(auc_last_mat_3_platform[nrow(auc_last_mat_3_platform)-i+2,i])\n",
    "}\n",
    "round(median(under_diag_auc_last_mat_3_platform),2)\n",
    "\n",
    "len_ = length(under_diag_auc_last_mat_3_platform)\n",
    "my_data <- data.frame( \n",
    "                Method = rep(c(\"all\", \"last\"), each = len_),\n",
    "                AUC = c(under_diag_auc_all_mat_3_platform,\n",
    "                        under_diag_auc_last_mat_3_platform)\n",
    "                )\n",
    "wilcox.test(AUC ~ Method, data = my_data, paired = TRUE, alternative = \"two.sided\")\n",
    "\n",
    "print(\"########### platform ###########\")\n",
    "print(\"################################\")\n",
    "\n",
    "print(\"################################################################\")\n",
    "\n",
    "print(\"################################\")\n",
    "print(\"########### postgres ###########\")\n",
    "\n",
    "auc_all_mat_3_postgres = read.csv(\"output_3month\\\\auc_all_mat_3_postgres.csv\",row.names=1)\n",
    "auc_last_mat_3_postgres = read.csv(\"output_3month\\\\auc_last_mat_3_postgres.csv\",row.names=1)\n",
    "\n",
    "under_diag_auc_all_mat_3_postgres={}\n",
    "for (i in 2:nrow(auc_all_mat_3_postgres)){\n",
    "    under_diag_auc_all_mat_3_postgres[i-1]=(auc_all_mat_3_postgres[nrow(auc_all_mat_3_postgres)-i+2,i])\n",
    "}\n",
    "round(median(under_diag_auc_all_mat_3_postgres),2)\n",
    "\n",
    "under_diag_auc_last_mat_3_postgres={}\n",
    "for (i in 2:nrow(auc_last_mat_3_postgres)){\n",
    "    under_diag_auc_last_mat_3_postgres[i-1]=(auc_last_mat_3_postgres[nrow(auc_last_mat_3_postgres)-i+2,i])\n",
    "}\n",
    "round(median(under_diag_auc_last_mat_3_postgres),2)\n",
    "\n",
    "len_ = length(under_diag_auc_last_mat_3_postgres)\n",
    "my_data <- data.frame( \n",
    "                Method = rep(c(\"all\", \"last\"), each = len_),\n",
    "                AUC = c(under_diag_auc_all_mat_3_postgres,\n",
    "                        under_diag_auc_last_mat_3_postgres)\n",
    "                )\n",
    "wilcox.test(AUC ~ Method, data = my_data, paired = TRUE, alternative = \"two.sided\")\n",
    "\n",
    "print(\"########### postgres ###########\")\n",
    "print(\"################################\")\n",
    "options(warn=0)\n"
   ]
  },
  {
   "cell_type": "code",
   "execution_count": 26,
   "metadata": {},
   "outputs": [
    {
     "name": "stdout",
     "output_type": "stream",
     "text": [
      "[1] \"################################\"\n",
      "[1] \"############# jdt ##############\"\n"
     ]
    },
    {
     "data": {
      "text/html": [
       "0.18"
      ],
      "text/latex": [
       "0.18"
      ],
      "text/markdown": [
       "0.18"
      ],
      "text/plain": [
       "[1] 0.18"
      ]
     },
     "metadata": {},
     "output_type": "display_data"
    },
    {
     "data": {
      "text/html": [
       "0.2"
      ],
      "text/latex": [
       "0.2"
      ],
      "text/markdown": [
       "0.2"
      ],
      "text/plain": [
       "[1] 0.2"
      ]
     },
     "metadata": {},
     "output_type": "display_data"
    },
    {
     "data": {
      "text/plain": [
       "\n",
       "\tWilcoxon signed rank test\n",
       "\n",
       "data:  brier by Method\n",
       "V = 7, p-value = 2.831e-07\n",
       "alternative hypothesis: true location shift is less than 0\n"
      ]
     },
     "metadata": {},
     "output_type": "display_data"
    },
    {
     "name": "stdout",
     "output_type": "stream",
     "text": [
      "[1] \"############## jdt #############\"\n",
      "[1] \"################################\"\n",
      "[1] \"################################################################\"\n",
      "[1] \"################################\"\n",
      "[1] \"########### mozilla ############\"\n"
     ]
    },
    {
     "data": {
      "text/html": [
       "0.15"
      ],
      "text/latex": [
       "0.15"
      ],
      "text/markdown": [
       "0.15"
      ],
      "text/plain": [
       "[1] 0.15"
      ]
     },
     "metadata": {},
     "output_type": "display_data"
    },
    {
     "data": {
      "text/html": [
       "0.18"
      ],
      "text/latex": [
       "0.18"
      ],
      "text/markdown": [
       "0.18"
      ],
      "text/plain": [
       "[1] 0.18"
      ]
     },
     "metadata": {},
     "output_type": "display_data"
    },
    {
     "data": {
      "text/plain": [
       "\n",
       "\tWilcoxon signed rank test\n",
       "\n",
       "data:  brier by Method\n",
       "V = 0, p-value = 7.451e-09\n",
       "alternative hypothesis: true location shift is less than 0\n"
      ]
     },
     "metadata": {},
     "output_type": "display_data"
    },
    {
     "name": "stdout",
     "output_type": "stream",
     "text": [
      "[1] \"########### mozilla ############\"\n",
      "[1] \"################################\"\n",
      "[1] \"################################################################\"\n",
      "[1] \"################################\"\n",
      "[1] \"########### platform ###########\"\n"
     ]
    },
    {
     "data": {
      "text/html": [
       "0.19"
      ],
      "text/latex": [
       "0.19"
      ],
      "text/markdown": [
       "0.19"
      ],
      "text/plain": [
       "[1] 0.19"
      ]
     },
     "metadata": {},
     "output_type": "display_data"
    },
    {
     "data": {
      "text/html": [
       "0.19"
      ],
      "text/latex": [
       "0.19"
      ],
      "text/markdown": [
       "0.19"
      ],
      "text/plain": [
       "[1] 0.19"
      ]
     },
     "metadata": {},
     "output_type": "display_data"
    },
    {
     "data": {
      "text/plain": [
       "\n",
       "\tWilcoxon signed rank test\n",
       "\n",
       "data:  brier by Method\n",
       "V = 93, p-value = 0.01786\n",
       "alternative hypothesis: true location shift is less than 0\n"
      ]
     },
     "metadata": {},
     "output_type": "display_data"
    },
    {
     "name": "stdout",
     "output_type": "stream",
     "text": [
      "[1] \"########### platform ###########\"\n",
      "[1] \"################################\"\n",
      "[1] \"################################################################\"\n",
      "[1] \"################################\"\n",
      "[1] \"########### postgres ###########\"\n"
     ]
    },
    {
     "data": {
      "text/html": [
       "0.17"
      ],
      "text/latex": [
       "0.17"
      ],
      "text/markdown": [
       "0.17"
      ],
      "text/plain": [
       "[1] 0.17"
      ]
     },
     "metadata": {},
     "output_type": "display_data"
    },
    {
     "data": {
      "text/html": [
       "0.19"
      ],
      "text/latex": [
       "0.19"
      ],
      "text/markdown": [
       "0.19"
      ],
      "text/plain": [
       "[1] 0.19"
      ]
     },
     "metadata": {},
     "output_type": "display_data"
    },
    {
     "data": {
      "text/plain": [
       "\n",
       "\tWilcoxon signed rank test with continuity correction\n",
       "\n",
       "data:  brier by Method\n",
       "V = 55, p-value = 1.072e-09\n",
       "alternative hypothesis: true location shift is less than 0\n"
      ]
     },
     "metadata": {},
     "output_type": "display_data"
    },
    {
     "name": "stdout",
     "output_type": "stream",
     "text": [
      "[1] \"########### postgres ###########\"\n",
      "[1] \"################################\"\n"
     ]
    }
   ],
   "source": [
    "options(warn=-1)\n",
    "\n",
    "print(\"################################\")\n",
    "print(\"############# jdt ##############\")\n",
    "brier_all_mat_3_jdt = read.csv(\"output_3month\\\\brier_all_mat_3_jdt.csv\",row.names=1)\n",
    "brier_last_mat_3_jdt = read.csv(\"output_3month\\\\brier_last_mat_3_jdt.csv\",row.names=1)\n",
    "\n",
    "under_diag_brier_all_mat_3_jdt={}\n",
    "for (i in 2:nrow(brier_all_mat_3_jdt)){\n",
    "    under_diag_brier_all_mat_3_jdt[i-1]=(brier_all_mat_3_jdt[nrow(brier_all_mat_3_jdt)-i+2,i])\n",
    "}\n",
    "round(median(under_diag_brier_all_mat_3_jdt),2)\n",
    "\n",
    "under_diag_brier_last_mat_3_jdt={}\n",
    "for (i in 2:nrow(brier_last_mat_3_jdt)){\n",
    "    under_diag_brier_last_mat_3_jdt[i-1]=(brier_last_mat_3_jdt[nrow(brier_last_mat_3_jdt)-i+2,i])\n",
    "}\n",
    "round(median(under_diag_brier_last_mat_3_jdt),2)\n",
    "\n",
    "len_ = length(under_diag_brier_last_mat_3_jdt)\n",
    "my_data <- data.frame( \n",
    "                Method = rep(c(\"all\", \"last\"), each = len_),\n",
    "                brier = c(under_diag_brier_all_mat_3_jdt,\n",
    "                        under_diag_brier_last_mat_3_jdt)\n",
    "                )\n",
    "wilcox.test(brier ~ Method, data = my_data, paired = TRUE, alternative = \"less\")\n",
    "\n",
    "print(\"############## jdt #############\")\n",
    "print(\"################################\")\n",
    "print(\"################################################################\")\n",
    "\n",
    "\n",
    "\n",
    "print(\"################################\")\n",
    "print(\"########### mozilla ############\")\n",
    "brier_all_mat_3_mozilla = read.csv(\"output_3month\\\\brier_all_mat_3_mozilla.csv\",row.names=1)\n",
    "brier_last_mat_3_mozilla = read.csv(\"output_3month\\\\brier_last_mat_3_mozilla.csv\",row.names=1)\n",
    "\n",
    "under_diag_brier_all_mat_3_mozilla={}\n",
    "for (i in 2:nrow(brier_all_mat_3_mozilla)){\n",
    "    under_diag_brier_all_mat_3_mozilla[i-1]=(brier_all_mat_3_mozilla[nrow(brier_all_mat_3_mozilla)-i+2,i])\n",
    "}\n",
    "round(median(under_diag_brier_all_mat_3_mozilla),2)\n",
    "\n",
    "under_diag_brier_last_mat_3_mozilla={}\n",
    "for (i in 2:nrow(brier_last_mat_3_mozilla)){\n",
    "    under_diag_brier_last_mat_3_mozilla[i-1]=(brier_last_mat_3_mozilla[nrow(brier_last_mat_3_mozilla)-i+2,i])\n",
    "}\n",
    "round(median(under_diag_brier_last_mat_3_mozilla),2)\n",
    "\n",
    "len_ = length(under_diag_brier_last_mat_3_mozilla)\n",
    "my_data <- data.frame( \n",
    "                Method = rep(c(\"all\", \"last\"), each = len_),\n",
    "                brier = c(under_diag_brier_all_mat_3_mozilla,\n",
    "                        under_diag_brier_last_mat_3_mozilla)\n",
    "                )\n",
    "wilcox.test(brier ~ Method, data = my_data, paired = TRUE, alternative = \"less\")\n",
    "\n",
    "print(\"########### mozilla ############\")\n",
    "print(\"################################\")\n",
    "\n",
    "print(\"################################################################\")\n",
    "\n",
    "\n",
    "\n",
    "print(\"################################\")\n",
    "print(\"########### platform ###########\")\n",
    "brier_all_mat_3_platform = read.csv(\"output_3month\\\\brier_all_mat_3_platform.csv\",row.names=1)\n",
    "brier_last_mat_3_platform = read.csv(\"output_3month\\\\brier_last_mat_3_platform.csv\",row.names=1)\n",
    "\n",
    "under_diag_brier_all_mat_3_platform={}\n",
    "for (i in 2:nrow(brier_all_mat_3_platform)){\n",
    "    under_diag_brier_all_mat_3_platform[i-1]=(brier_all_mat_3_platform[nrow(brier_all_mat_3_platform)-i+2,i])\n",
    "}\n",
    "round(median(under_diag_brier_all_mat_3_platform),2)\n",
    "\n",
    "under_diag_brier_last_mat_3_platform={}\n",
    "for (i in 2:nrow(brier_last_mat_3_platform)){\n",
    "    under_diag_brier_last_mat_3_platform[i-1]=(brier_last_mat_3_platform[nrow(brier_last_mat_3_platform)-i+2,i])\n",
    "}\n",
    "round(median(under_diag_brier_last_mat_3_platform),2)\n",
    "\n",
    "len_ = length(under_diag_brier_last_mat_3_platform)\n",
    "my_data <- data.frame( \n",
    "                Method = rep(c(\"all\", \"last\"), each = len_),\n",
    "                brier = c(under_diag_brier_all_mat_3_platform,\n",
    "                        under_diag_brier_last_mat_3_platform)\n",
    "                )\n",
    "wilcox.test(brier ~ Method, data = my_data, paired = TRUE, alternative = \"less\")\n",
    "\n",
    "print(\"########### platform ###########\")\n",
    "print(\"################################\")\n",
    "\n",
    "print(\"################################################################\")\n",
    "\n",
    "print(\"################################\")\n",
    "print(\"########### postgres ###########\")\n",
    "\n",
    "brier_all_mat_3_postgres = read.csv(\"output_3month\\\\brier_all_mat_3_postgres.csv\",row.names=1)\n",
    "brier_last_mat_3_postgres = read.csv(\"output_3month\\\\brier_last_mat_3_postgres.csv\",row.names=1)\n",
    "\n",
    "under_diag_brier_all_mat_3_postgres={}\n",
    "for (i in 2:nrow(brier_all_mat_3_postgres)){\n",
    "    under_diag_brier_all_mat_3_postgres[i-1]=(brier_all_mat_3_postgres[nrow(brier_all_mat_3_postgres)-i+2,i])\n",
    "}\n",
    "round(median(under_diag_brier_all_mat_3_postgres),2)\n",
    "\n",
    "under_diag_brier_last_mat_3_postgres={}\n",
    "for (i in 2:nrow(brier_last_mat_3_postgres)){\n",
    "    under_diag_brier_last_mat_3_postgres[i-1]=(brier_last_mat_3_postgres[nrow(brier_last_mat_3_postgres)-i+2,i])\n",
    "}\n",
    "round(median(under_diag_brier_last_mat_3_postgres),2)\n",
    "\n",
    "len_ = length(under_diag_brier_last_mat_3_postgres)\n",
    "my_data <- data.frame( \n",
    "                Method = rep(c(\"all\", \"last\"), each = len_),\n",
    "                brier = c(under_diag_brier_all_mat_3_postgres,\n",
    "                        under_diag_brier_last_mat_3_postgres)\n",
    "                )\n",
    "wilcox.test(brier ~ Method, data = my_data, paired = TRUE, alternative = \"less\")\n",
    "\n",
    "print(\"########### postgres ###########\")\n",
    "print(\"################################\")\n",
    "options(warn=0)"
   ]
  },
  {
   "cell_type": "markdown",
   "metadata": {},
   "source": [
    "# RQ4"
   ]
  },
  {
   "cell_type": "code",
   "execution_count": 27,
   "metadata": {},
   "outputs": [
    {
     "name": "stdout",
     "output_type": "stream",
     "text": [
      "  |======================================================================| 100%"
     ]
    }
   ],
   "source": [
    "library(MASS)\n",
    "\n",
    "months_ = 3 #EACH 3 MONTHS\n",
    "projects = c(#\"bugzilla\", \"columba\", \n",
    "             \"jdt\", \"platform\", \"mozilla\", \"postgres\") # target projects\n",
    "row_ = length(names(METRICS_FAMILIES))\n",
    "\n",
    "pb <- txtProgressBar(min = 0, max = length(projects), style = 3) # progress bar\n",
    "for (proj in 1:length(projects)){\n",
    "\n",
    "\n",
    "    ###############################\n",
    "    # reading data\n",
    "    ###############################\n",
    "    data_name = read.csv(file=file.path(\"input\", paste0(projects[proj],\".csv\"),sep=\"\"))\n",
    "    \n",
    "\n",
    "    ###############################\n",
    "    # removing index column and sampling if needed.\n",
    "    ###############################\n",
    "    sampling = FALSE\n",
    "    if(sampling){\n",
    "        fit <- doSampling(data_name,\"bug\") [,-1]\n",
    "    } else {\n",
    "        fit = data_name[,-1]\n",
    "    }\n",
    "\n",
    "\n",
    "    ###############################\n",
    "    # keeping commit date in another variable and then removing that column.\n",
    "    ###############################\n",
    "    keep_commitdate = fit[\"commitdate\"]\n",
    "    fit= fit[-1]\n",
    "\n",
    "\n",
    "    ###############################\n",
    "    # normalizing\n",
    "    ###############################\n",
    "    idx <- charmatch(c(\"la\",\"ld\",\"lt\",\"exp\",\"rexp\",\"sexp\",\"ndev\",\"pd\",\"npt\",\"entropy\"), colnames(fit))\n",
    "    fit[,idx] = fit[,idx] + 1\n",
    "    idx <- charmatch(c(\"fix\",\"bug\"), colnames(fit))\n",
    "    fit[,-c(idx)] = apply(fit[,-c(idx)], 2, log) \n",
    "\n",
    "    ###############################\n",
    "    # removing highly correlated columns\n",
    "    ###############################\n",
    "    idx <- charmatch(c(\"nm\",\"rexp\"), colnames(fit))\n",
    "    fit = fit[,-c(idx)]\n",
    "\n",
    "    va <- apply(fit, 2, var)\n",
    "    fit <- fit[,!(va==0)]\n",
    "\n",
    "    co <- cor(fit)\n",
    "    ap <- apply(abs(co) > 0.9999 & upper.tri(co), 2, any)\n",
    "    fit <- fit[!ap]\n",
    "\n",
    "\n",
    "    ###############################\n",
    "    # removing by VIF\n",
    "    ###############################\n",
    "    idx <- charmatch(c(\"bug\"), colnames(fit))\n",
    "    x = fit[,-c(idx)] # remove bug column temporarily\n",
    "    x <- remVarsByVIF(x)\n",
    "    fit = cbind(x, fit[\"bug\"])  # add again bug column\n",
    "\n",
    "    ###############################\n",
    "    # adding commit date as timestamp\n",
    "    ###############################\n",
    "    fit = cbind(keep_commitdate,fit) #adding back commitdate\n",
    "\n",
    "    # creating timestampe\n",
    "    commitdate_timestamp = as.numeric(apply(fit[\"commitdate\"], 1, as.POSIXct))\n",
    "    fit = cbind(commitdate_timestamp, fit)\n",
    "    fit = fit[order(fit[\"commitdate_timestamp\"]),]\n",
    "    \n",
    "\n",
    "    ###############################\n",
    "    # adding strata column\n",
    "    ###############################\n",
    "    fit <- create_starta(fit,\"commitdate_timestamp\",months_)\n",
    "\n",
    "    \n",
    "    ###############################\n",
    "    # re-sampling on training set\n",
    "    ###############################\n",
    "    sampling = TRUE\n",
    "    if(sampling){\n",
    "        fit_testing <- fit \n",
    "        sampled1 <- lapply(split(fit, fit$strata),doSampling)\n",
    "        fit_training = do.call(\"rbind\", sampled1)\n",
    "    }\n",
    "    \n",
    "    \n",
    "    ###############################\n",
    "    # the total number of strata\n",
    "    ###############################\n",
    "    max_ = max(as.numeric(fit$strata)) + 1\n",
    "    \n",
    "    ###############################\n",
    "    # empty matrix to track the result\n",
    "    ###############################\n",
    "    brier_all_mat_3_Q4 = matrix(NA, nrow = max_ ,ncol = max_)\n",
    "    auc_all_mat_3_Q4 = matrix(NA, nrow = max_ ,ncol = max_)\n",
    "\n",
    "\n",
    "    ###############################\n",
    "    # pairwise comparison of the different strata\n",
    "    ###############################\n",
    "    for (i in 1:max_){\n",
    "        if (i == 1){\n",
    "            next\n",
    "        }\n",
    "        \n",
    "        \n",
    "    ###############################\n",
    "    # new\n",
    "    ###############################\n",
    "    strata_cur = i - 1\n",
    "    test = subset(fit_testing, as.numeric(strata) == strata_cur)\n",
    "    for (j in 0:(strata_cur-1)){\n",
    "        first_it = T\n",
    "        for (jj in 1:j){\n",
    "            train_all_temp = subset(fit_testing, as.numeric(strata) == jj)\n",
    "            if (j==0){\n",
    "                ratio_ = 1 \n",
    "            } else {\n",
    "                ratio_ = 1 - ((j-jj)/j)\n",
    "            }\n",
    "\n",
    "            sampled_index = sample(floor(ratio_ * nrow(train_all_temp)))\n",
    "            if (first_it){\n",
    "                train_all = train_all_temp[sampled_index,]\n",
    "                first_it = FALSE\n",
    "            } else {\n",
    "                train_all = rbind(train_all, train_all_temp[sampled_index,])\n",
    "            }  \n",
    "        }\n",
    "    ###############################\n",
    "    # new\n",
    "    ###############################          \n",
    "        \n",
    "#         strata_cur = i-1\n",
    "#         test = subset(fit_testing, strata == (strata_cur))\n",
    "#         for (j in 0:(strata_cur-1)){\n",
    "# #            print(c(\"\\n\",\"i:\",i,\"j:\",j))\n",
    "#             train_last = subset(fit_training, strata == j)\n",
    "#             train_all = subset(fit_training, strata %in% 0:j)\n",
    "            \n",
    "            train_all = train_all[ ,-charmatch(c(\"strata\",\"commitdate_timestamp\",\"commitdate\"),\n",
    "                                               colnames(train_all))] # remove three columns before glm \n",
    "#             train_last = train_last[ ,-charmatch(c(\"strata\",\"commitdate_timestamp\",\"commitdate\"), \n",
    "#                                                  colnames(train_last))] #remove three columns before glm\n",
    "\n",
    "            ###############################\n",
    "            # remove non-varient columns\n",
    "            ###############################\n",
    "            va <- apply(train_all, 2, var)\n",
    "            train_all <- train_all[,!(va==0)]\n",
    "            \n",
    "            ###############################\n",
    "            # remove possible duplicate columns\n",
    "            ###############################\n",
    "            train_all = train_all[, !duplicated(t(train_all))]\n",
    "\n",
    "            ###############################\n",
    "            # remove by VIF\n",
    "            ###############################\n",
    "            idx <- charmatch(c(\"bug\"), colnames(train_all))\n",
    "            x = train_all[,-c(idx)] # remove bug column temporarily\n",
    "            x <- remVarsByVIF(x)\n",
    "            train_all = cbind(x, train_all[\"bug\"])  # add again bug column       \n",
    "            \n",
    "#            print(\"\\n model all\")\n",
    "#            options(warn=-1)\n",
    "            #bayesglm\n",
    "#            model_all = lrm(bug~.,train_all)\n",
    "            model_all = randomForest(as.factor(bug) ~ ., data=train_all, ntree=100, mtry=2, importance=TRUE)\n",
    "\n",
    "\n",
    "#            model_all = glm(bug~.,train_all, family=binomial, control = list(maxit = 50))\n",
    "#            options(warn=-1)\n",
    "#            model_all = stepAIC(model_all, k=log(nrow(train_all)), trace = FALSE)\n",
    "#            options(warn=0)\n",
    "            pred_all = predict(model_all, new=test\n",
    "                               , type = \"prob\"\n",
    "#                               ,type=\"response\"\n",
    "                              ) [,\"1\"]\n",
    "            \n",
    "            \n",
    "            \n",
    "            brier_all_mat_3_Q4[max_-(j),i] = brier(pred_all,test$bug)\n",
    "            auc_all_mat_3_Q4[max_-(j),i] = calcROC(pred_all,test$bug)\n",
    "        }\n",
    "    }\n",
    "    \n",
    "    \n",
    "    write.csv(brier_all_mat_3_Q4, file=file.path(\"output_3month\", paste0(\"brier_all_mat_3_Q4_\",projects[proj],\".csv\"), fsep = .Platform$file.sep),row.names=FALSE)\n",
    "    write.csv(auc_all_mat_3_Q4, file=file.path(\"output_3month\", paste0(\"auc_all_mat_3_Q4_\",projects[proj],\".csv\"), fsep = .Platform$file.sep),row.names=FALSE)\n",
    "\n",
    "    \n",
    "    Sys.sleep(0.001)\n",
    "    setTxtProgressBar(pb, proj)\n",
    "}"
   ]
  },
  {
   "cell_type": "code",
   "execution_count": 28,
   "metadata": {
    "scrolled": false
   },
   "outputs": [
    {
     "name": "stderr",
     "output_type": "stream",
     "text": [
      "Warning message:\n",
      "\"package 'reshape2' was built under R version 3.5.3\""
     ]
    },
    {
     "name": "stdout",
     "output_type": "stream",
     "text": [
      "$statistic\n",
      "Kruskal-Wallis chi-squared \n",
      "                  16.02161 \n",
      "\n",
      "$parameter\n",
      "df \n",
      " 2 \n",
      "\n",
      "$p.value\n",
      "[1] 0.0003318567\n",
      "\n",
      "$method\n",
      "[1] \"Kruskal-Wallis rank sum test\"\n",
      "\n",
      "$data.name\n",
      "[1] \"AUC by Var2\"\n",
      "\n",
      "[[6]]\n",
      "[1] \"jdt\"\n",
      "\n"
     ]
    },
    {
     "data": {
      "image/png": "[encoded data removed]",
      "text/plain": [
       "plot without title"
      ]
     },
     "metadata": {},
     "output_type": "display_data"
    },
    {
     "name": "stdout",
     "output_type": "stream",
     "text": [
      "$statistic\n",
      "Kruskal-Wallis chi-squared \n",
      "                  39.03523 \n",
      "\n",
      "$parameter\n",
      "df \n",
      " 2 \n",
      "\n",
      "$p.value\n",
      "[1] 3.338931e-09\n",
      "\n",
      "$method\n",
      "[1] \"Kruskal-Wallis rank sum test\"\n",
      "\n",
      "$data.name\n",
      "[1] \"AUC by Var2\"\n",
      "\n",
      "[[6]]\n",
      "[1] \"mozilla\"\n",
      "\n"
     ]
    },
    {
     "data": {
      "image/png": "[encoded data removed]",
      "text/plain": [
       "plot without title"
      ]
     },
     "metadata": {},
     "output_type": "display_data"
    },
    {
     "name": "stdout",
     "output_type": "stream",
     "text": [
      "$statistic\n",
      "Kruskal-Wallis chi-squared \n",
      "                   33.9612 \n",
      "\n",
      "$parameter\n",
      "df \n",
      " 2 \n",
      "\n",
      "$p.value\n",
      "[1] 4.221034e-08\n",
      "\n",
      "$method\n",
      "[1] \"Kruskal-Wallis rank sum test\"\n",
      "\n",
      "$data.name\n",
      "[1] \"AUC by Var2\"\n",
      "\n",
      "[[6]]\n",
      "[1] \"platform\"\n",
      "\n"
     ]
    },
    {
     "data": {
      "image/png": "[encoded data removed]",
      "text/plain": [
       "plot without title"
      ]
     },
     "metadata": {},
     "output_type": "display_data"
    },
    {
     "name": "stdout",
     "output_type": "stream",
     "text": [
      "$statistic\n",
      "Kruskal-Wallis chi-squared \n",
      "                  8.164682 \n",
      "\n",
      "$parameter\n",
      "df \n",
      " 2 \n",
      "\n",
      "$p.value\n",
      "[1] 0.01686793\n",
      "\n",
      "$method\n",
      "[1] \"Kruskal-Wallis rank sum test\"\n",
      "\n",
      "$data.name\n",
      "[1] \"AUC by Var2\"\n",
      "\n",
      "[[6]]\n",
      "[1] \"postgres\"\n",
      "\n"
     ]
    },
    {
     "data": {
      "image/png": "[encoded data removed]",
      "text/plain": [
       "plot without title"
      ]
     },
     "metadata": {},
     "output_type": "display_data"
    }
   ],
   "source": [
    "projects = c(#\"bugzilla\", \"columba\",\n",
    "    \"jdt\", \"mozilla\", \"platform\", \"postgres\") # target projects\n",
    "options(repr.plot.width=6, repr.plot.height=5)\n",
    "\n",
    "for (proj in projects){\n",
    "    all_dat = read.csv(paste0('output_3month/auc_all_mat_3_',proj,'.csv'))[,-1]\n",
    "    last_dat =  read.csv(paste0('output_3month/auc_last_mat_3_',proj,'.csv'))[,-1]\n",
    "    weighted_dat =  read.csv(paste0('output_3month/auc_all_mat_3_Q4_',proj,'.csv'))\n",
    "\n",
    "    library(reshape2)\n",
    "    library(beanplot)\n",
    "    length_ = ncol(weighted_dat)\n",
    "    AUC_values = cbind(last_dat[,length_][-1],\n",
    "                            all_dat[,length_][-1],\n",
    "                            weighted_dat[,length_][-1])\n",
    "    #openstack_3_AUC = cbind(openstack_3_AUC, rep(c(\"SPM\",\"LPM\",\"Weighted Sampling\"),each = (length_-1)))\n",
    "    #colnames(openstack_3_AUC) = c(\"AUC\",\"Method\")\n",
    "    colnames(AUC_values) = c(\"SPM\",\"LPM\",\"Weighted Sampling\")\n",
    "\n",
    "    AUC_values_Long = melt(AUC_values, id.vars = list(colnames(AUC_values)))\n",
    "    colnames(AUC_values_Long) <- c(\"Var1\",\"Var2\",\"AUC\")\n",
    "\n",
    "    beanplot(AUC~Var2,data=AUC_values_Long,log=\"\",col=\"gray\",method=\"jitter\",ylim=c(0.35,0.95),\n",
    "             ylab = \"AUC\"\n",
    "             #, main = proj\n",
    "            )\n",
    "    print(c(kruskal.test(AUC~Var2,data=AUC_values_Long), proj))\n",
    "}"
   ]
  },
  {
   "cell_type": "code",
   "execution_count": 31,
   "metadata": {
    "scrolled": false
   },
   "outputs": [
    {
     "name": "stdout",
     "output_type": "stream",
     "text": [
      "$statistic\n",
      "Kruskal-Wallis chi-squared \n",
      "                  59.40469 \n",
      "\n",
      "$parameter\n",
      "df \n",
      " 2 \n",
      "\n",
      "$p.value\n",
      "[1] 1.260189e-13\n",
      "\n",
      "$method\n",
      "[1] \"Kruskal-Wallis rank sum test\"\n",
      "\n",
      "$data.name\n",
      "[1] \"AUC by Var2\"\n",
      "\n",
      "[[6]]\n",
      "[1] \"jdt\"\n",
      "\n"
     ]
    },
    {
     "data": {
      "image/png": "[encoded data removed]",
      "text/plain": [
       "plot without title"
      ]
     },
     "metadata": {},
     "output_type": "display_data"
    },
    {
     "name": "stdout",
     "output_type": "stream",
     "text": [
      "$statistic\n",
      "Kruskal-Wallis chi-squared \n",
      "                  66.83221 \n",
      "\n",
      "$parameter\n",
      "df \n",
      " 2 \n",
      "\n",
      "$p.value\n",
      "[1] 3.073049e-15\n",
      "\n",
      "$method\n",
      "[1] \"Kruskal-Wallis rank sum test\"\n",
      "\n",
      "$data.name\n",
      "[1] \"AUC by Var2\"\n",
      "\n",
      "[[6]]\n",
      "[1] \"mozilla\"\n",
      "\n"
     ]
    },
    {
     "data": {
      "image/png": "[encoded data removed]",
      "text/plain": [
       "plot without title"
      ]
     },
     "metadata": {},
     "output_type": "display_data"
    },
    {
     "name": "stdout",
     "output_type": "stream",
     "text": [
      "$statistic\n",
      "Kruskal-Wallis chi-squared \n",
      "                  58.53959 \n",
      "\n",
      "$parameter\n",
      "df \n",
      " 2 \n",
      "\n",
      "$p.value\n",
      "[1] 1.942185e-13\n",
      "\n",
      "$method\n",
      "[1] \"Kruskal-Wallis rank sum test\"\n",
      "\n",
      "$data.name\n",
      "[1] \"AUC by Var2\"\n",
      "\n",
      "[[6]]\n",
      "[1] \"platform\"\n",
      "\n"
     ]
    },
    {
     "data": {
      "image/png": "[encoded data removed]",
      "text/plain": [
       "plot without title"
      ]
     },
     "metadata": {},
     "output_type": "display_data"
    },
    {
     "name": "stdout",
     "output_type": "stream",
     "text": [
      "$statistic\n",
      "Kruskal-Wallis chi-squared \n",
      "                  100.3172 \n",
      "\n",
      "$parameter\n",
      "df \n",
      " 2 \n",
      "\n",
      "$p.value\n",
      "[1] 1.645852e-22\n",
      "\n",
      "$method\n",
      "[1] \"Kruskal-Wallis rank sum test\"\n",
      "\n",
      "$data.name\n",
      "[1] \"AUC by Var2\"\n",
      "\n",
      "[[6]]\n",
      "[1] \"postgres\"\n",
      "\n"
     ]
    },
    {
     "data": {
      "image/png": "[encoded data removed]",
      "text/plain": [
       "plot without title"
      ]
     },
     "metadata": {},
     "output_type": "display_data"
    }
   ],
   "source": [
    "projects = c(#\"bugzilla\", \"columba\", \n",
    "             \"jdt\", \"mozilla\", \"platform\", \"postgres\") # target projects\n",
    "options(repr.plot.width=6, repr.plot.height=5)\n",
    "\n",
    "for (proj in projects){\n",
    "    all_dat = read.csv(paste0('output_3month/brier_all_mat_3_',proj,'.csv'))[,-1]\n",
    "    last_dat =  read.csv(paste0('output_3month/brier_last_mat_3_',proj,'.csv'))[,-1]\n",
    "    weighted_dat =  read.csv(paste0('output_3month/brier_all_mat_3_Q4_',proj,'.csv'))\n",
    "\n",
    "    library(reshape2)\n",
    "    library(beanplot)\n",
    "    length_ = ncol(weighted_dat)\n",
    "    AUC_values = cbind(last_dat[,length_][-1],\n",
    "                            all_dat[,length_][-1],\n",
    "                            weighted_dat[,length_][-1])\n",
    "    #openstack_3_AUC = cbind(openstack_3_AUC, rep(c(\"SPM\",\"LPM\",\"Weighted Sampling\"),each = (length_-1)))\n",
    "    #colnames(openstack_3_AUC) = c(\"AUC\",\"Method\")\n",
    "    colnames(AUC_values) = c(\"SPM\",\"LPM\",\"Weighted Sampling\")\n",
    "\n",
    "    AUC_values_Long = melt(AUC_values, id.vars = list(colnames(AUC_values)))\n",
    "    colnames(AUC_values_Long) <- c(\"Var1\",\"Var2\",\"AUC\")\n",
    "\n",
    "    beanplot(AUC~Var2,data=AUC_values_Long,log=\"\",col=\"gray\",method=\"jitter\",ylim=c(0.0,0.35),\n",
    "             ylab = \"Brier\"\n",
    "             #, main = proj\n",
    "            )\n",
    "    print(c(kruskal.test(AUC~Var2,data=AUC_values_Long), proj))\n",
    "}"
   ]
  }
 ],
 "metadata": {
  "kernelspec": {
   "display_name": "R",
   "language": "R",
   "name": "ir"
  },
  "language_info": {
   "codemirror_mode": "r",
   "file_extension": ".r",
   "mimetype": "text/x-r-source",
   "name": "R",
   "pygments_lexer": "r",
   "version": "3.5.1"
  },
  "toc": {
   "base_numbering": 1,
   "nav_menu": {},
   "number_sections": true,
   "sideBar": true,
   "skip_h1_title": false,
   "title_cell": "Table of Contents",
   "title_sidebar": "Contents",
   "toc_cell": false,
   "toc_position": {
    "height": "calc(100% - 180px)",
    "left": "10px",
    "top": "150px",
    "width": "307.188px"
   },
   "toc_section_display": true,
   "toc_window_display": true
  }
 },
 "nbformat": 4,
 "nbformat_minor": 2
}
